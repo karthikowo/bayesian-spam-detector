{
 "cells": [
  {
   "cell_type": "code",
   "execution_count": 26,
   "id": "e84b2f9f",
   "metadata": {},
   "outputs": [],
   "source": [
    "import pickle\n",
    "import string\n",
    "from sklearn.feature_extraction.text import CountVectorizer,TfidfVectorizer\n",
    "from nltk.corpus import stopwords\n",
    "from nltk.stem.porter import PorterStemmer\n",
    "ps = PorterStemmer()\n",
    "import streamlit as st"
   ]
  },
  {
   "cell_type": "code",
   "execution_count": 21,
   "id": "68add120",
   "metadata": {},
   "outputs": [],
   "source": [
    "t = pickle.load(open('vectorizer.pkl','rb'))\n",
    "m = pickle.load(open('model.pkl','rb'))"
   ]
  },
  {
   "cell_type": "code",
   "execution_count": 22,
   "id": "0afa6a2c",
   "metadata": {},
   "outputs": [],
   "source": [
    "def transform_text(text):\n",
    "#     lowecase\n",
    "    text = text.lower()\n",
    "#     tokenization\n",
    "    text = nltk.word_tokenize(text)\n",
    "    \n",
    "    y = []\n",
    "    \n",
    "#     removing spl char\n",
    "    for i in text:\n",
    "        if i.isalnum():\n",
    "            y.append(i)\n",
    "    \n",
    "    text = y[:]\n",
    "    y.clear()\n",
    "    \n",
    "#     removing punctuation , frequent stopwords\n",
    "    for i in text:\n",
    "        if i not in stopwords.words('english') and i not in string.punctuation:\n",
    "            y.append(i)\n",
    "            \n",
    "    text = y[:]\n",
    "    y.clear()\n",
    "    \n",
    "#     stemming (eating->eat)\n",
    "    for i in text:\n",
    "        y.append(ps.stem(i))\n",
    "    \n",
    "    return \" \".join(y)"
   ]
  },
  {
   "cell_type": "code",
   "execution_count": 34,
   "id": "b3c86e14",
   "metadata": {},
   "outputs": [
    {
     "name": "stderr",
     "output_type": "stream",
     "text": [
      "2022-10-26 19:15:08.730 \n",
      "  \u001b[33m\u001b[1mWarning:\u001b[0m to view this Streamlit app on a browser, run it with the following\n",
      "  command:\n",
      "\n",
      "    streamlit run C:\\Users\\Karthik\\AppData\\Local\\Programs\\Python\\Python310\\lib\\site-packages\\ipykernel_launcher.py [ARGUMENTS]\n"
     ]
    },
    {
     "name": "stdout",
     "output_type": "stream",
     "text": [
      "\n"
     ]
    }
   ],
   "source": [
    "str1 = st.text_input(\"Message : \")\n",
    "try:\n",
    "    str1 = transform_text(str1)\n",
    "\n",
    "    vec_input = t.transform([str1])\n",
    "    print(str1)\n",
    "\n",
    "    result = list(m.predict(vec_input))\n",
    "    \n",
    "    if(result==0):\n",
    "        st.write(\"ham\")\n",
    "    else:\n",
    "        st.write(\"spam\")\n",
    "    \n",
    "except ValueError:\n",
    "    st.write(\"Enter the subreddit name to fetch content\")"
   ]
  },
  {
   "cell_type": "code",
   "execution_count": null,
   "id": "5cbd857e",
   "metadata": {},
   "outputs": [],
   "source": []
  }
 ],
 "metadata": {
  "kernelspec": {
   "display_name": "Python 3 (ipykernel)",
   "language": "python",
   "name": "python3"
  },
  "language_info": {
   "codemirror_mode": {
    "name": "ipython",
    "version": 3
   },
   "file_extension": ".py",
   "mimetype": "text/x-python",
   "name": "python",
   "nbconvert_exporter": "python",
   "pygments_lexer": "ipython3",
   "version": "3.10.1"
  }
 },
 "nbformat": 4,
 "nbformat_minor": 5
}
